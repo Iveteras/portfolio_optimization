{
 "cells": [
  {
   "cell_type": "code",
   "execution_count": 1,
   "metadata": {},
   "outputs": [],
   "source": [
    "import pandas as pd\n",
    "import yfinance as yf\n",
    "from bs4 import BeautifulSoup as bs\n",
    "import requests"
   ]
  },
  {
   "cell_type": "markdown",
   "metadata": {},
   "source": [
    "# Choosing the stocks that i will work with"
   ]
  },
  {
   "cell_type": "markdown",
   "metadata": {},
   "source": [
    "Getting all stock symbols of S&P500 from wikipedia"
   ]
  },
  {
   "cell_type": "code",
   "execution_count": 2,
   "metadata": {},
   "outputs": [],
   "source": [
    "html = requests.get('https://en.wikipedia.org/wiki/List_of_S%26P_500_companies').content\n",
    "soup = bs(html, 'html.parser')"
   ]
  },
  {
   "cell_type": "code",
   "execution_count": 3,
   "metadata": {},
   "outputs": [],
   "source": [
    "# Here is all the <a>SYMBOL</a>\n",
    "sp500_symbols_html = soup.findAll(\"a\", class_='external text')"
   ]
  },
  {
   "cell_type": "code",
   "execution_count": 4,
   "metadata": {},
   "outputs": [],
   "source": [
    "# Eventually some wrong strings came with the html, so i put this filter of 4 str only for stocks symbols\n",
    "sp500_symbols_list = []\n",
    "\n",
    "for html in sp500_symbols_html:\n",
    "\n",
    "    symbol = html.text\n",
    "    \n",
    "    if len(symbol) <= 4: sp500_symbols_list.append(html.text)"
   ]
  },
  {
   "cell_type": "markdown",
   "metadata": {},
   "source": [
    "Discovering the top 30 stocks with more volume "
   ]
  },
  {
   "cell_type": "code",
   "execution_count": 5,
   "metadata": {},
   "outputs": [],
   "source": [
    "def find_volume(stock_symbol):\n",
    "\n",
    "    stock = yf.Ticker(stock_symbol)\n",
    "\n",
    "    volume = stock.info['volume']\n",
    "    sector = stock.info['sectorKey']\n",
    "\n",
    "    stock_dict = {stock_symbol : {'Volume':volume, 'Sector':sector}}\n",
    "\n",
    "    return stock_dict"
   ]
  },
  {
   "cell_type": "code",
   "execution_count": 6,
   "metadata": {},
   "outputs": [],
   "source": [
    "def all_volumes(symbols_list):\n",
    "\n",
    "    stocks_dict = dict()\n",
    "\n",
    "    for symbol in symbols_list:\n",
    "\n",
    "        try:\n",
    "            stock_dict = find_volume(symbol)\n",
    "\n",
    "            stocks_dict.update(stock_dict)\n",
    "\n",
    "        except:\n",
    "            error_dict = {symbol: 'Error'}\n",
    "\n",
    "            stocks_dict.update(error_dict)\n",
    "    \n",
    "    return stocks_dict"
   ]
  },
  {
   "cell_type": "code",
   "execution_count": 7,
   "metadata": {},
   "outputs": [],
   "source": [
    "stocks_dict = all_volumes(sp500_symbols_list)"
   ]
  },
  {
   "cell_type": "code",
   "execution_count": 8,
   "metadata": {},
   "outputs": [],
   "source": [
    "def remove_errors(dict):\n",
    "    \n",
    "    symbols_error = list()\n",
    "\n",
    "    for key in dict.keys():\n",
    "        \n",
    "        value = dict[key]\n",
    "        \n",
    "        if value == 'Error':\n",
    "            symbols_error.append(key)\n",
    "    \n",
    "    return symbols_error"
   ]
  },
  {
   "cell_type": "code",
   "execution_count": 9,
   "metadata": {},
   "outputs": [
    {
     "data": {
      "text/plain": [
       "['BF.B']"
      ]
     },
     "execution_count": 9,
     "metadata": {},
     "output_type": "execute_result"
    }
   ],
   "source": [
    "remove_error = remove_errors(stocks_dict)\n",
    "remove_error"
   ]
  },
  {
   "cell_type": "code",
   "execution_count": 10,
   "metadata": {},
   "outputs": [],
   "source": [
    "# Poping all the errors stocks\n",
    "\n",
    "for stock in remove_error:\n",
    "    stocks_dict.pop(stock)"
   ]
  },
  {
   "cell_type": "code",
   "execution_count": 11,
   "metadata": {},
   "outputs": [
    {
     "data": {
      "text/html": [
       "<div>\n",
       "<style scoped>\n",
       "    .dataframe tbody tr th:only-of-type {\n",
       "        vertical-align: middle;\n",
       "    }\n",
       "\n",
       "    .dataframe tbody tr th {\n",
       "        vertical-align: top;\n",
       "    }\n",
       "\n",
       "    .dataframe thead th {\n",
       "        text-align: right;\n",
       "    }\n",
       "</style>\n",
       "<table border=\"1\" class=\"dataframe\">\n",
       "  <thead>\n",
       "    <tr style=\"text-align: right;\">\n",
       "      <th></th>\n",
       "      <th>Volume</th>\n",
       "      <th>Sector</th>\n",
       "    </tr>\n",
       "  </thead>\n",
       "  <tbody>\n",
       "    <tr>\n",
       "      <th>MMM</th>\n",
       "      <td>1571061</td>\n",
       "      <td>industrials</td>\n",
       "    </tr>\n",
       "    <tr>\n",
       "      <th>AOS</th>\n",
       "      <td>354651</td>\n",
       "      <td>industrials</td>\n",
       "    </tr>\n",
       "    <tr>\n",
       "      <th>ABT</th>\n",
       "      <td>2550369</td>\n",
       "      <td>healthcare</td>\n",
       "    </tr>\n",
       "    <tr>\n",
       "      <th>ABBV</th>\n",
       "      <td>3760786</td>\n",
       "      <td>healthcare</td>\n",
       "    </tr>\n",
       "    <tr>\n",
       "      <th>ACN</th>\n",
       "      <td>1235115</td>\n",
       "      <td>technology</td>\n",
       "    </tr>\n",
       "  </tbody>\n",
       "</table>\n",
       "</div>"
      ],
      "text/plain": [
       "       Volume       Sector\n",
       "MMM   1571061  industrials\n",
       "AOS    354651  industrials\n",
       "ABT   2550369   healthcare\n",
       "ABBV  3760786   healthcare\n",
       "ACN   1235115   technology"
      ]
     },
     "execution_count": 11,
     "metadata": {},
     "output_type": "execute_result"
    }
   ],
   "source": [
    "all_stocks_df = pd.DataFrame(stocks_dict)\n",
    "all_stocks_df = all_stocks_df.transpose()\n",
    "all_stocks_df.head()"
   ]
  },
  {
   "cell_type": "code",
   "execution_count": 12,
   "metadata": {},
   "outputs": [],
   "source": [
    "# Selecting top 30 with the most volume\n",
    "all_stocks_df.sort_values('Volume', ascending=False, inplace=True)\n",
    "\n",
    "top_stocks = list(all_stocks_df[0:30].index)"
   ]
  },
  {
   "cell_type": "markdown",
   "metadata": {},
   "source": [
    "# Getting all the data"
   ]
  },
  {
   "cell_type": "code",
   "execution_count": 1,
   "metadata": {},
   "outputs": [],
   "source": [
    "# This function will return the dataframe os one single stock\n",
    "\n",
    "def find_data_stock(stock_symbol):\n",
    "\n",
    "    stock = yf.Ticker(stock_symbol)\n",
    "    df = stock.history(period=\"10y\")\n",
    "\n",
    "    df['stock name'] = stock_symbol\n",
    "\n",
    "    return df"
   ]
  },
  {
   "cell_type": "code",
   "execution_count": 14,
   "metadata": {},
   "outputs": [],
   "source": [
    "# This function will find all data of each stock and return one single dataframe\n",
    "def find_all_data(stock_symbol_list):\n",
    "\n",
    "    dfs = []\n",
    "\n",
    "    for stock_symbol in stock_symbol_list:\n",
    "\n",
    "        stock_df = find_data_stock(stock_symbol)\n",
    "\n",
    "        dfs.append(stock_df)\n",
    "    \n",
    "    main_df = pd.concat(dfs)\n",
    "    \n",
    "    return main_df"
   ]
  },
  {
   "cell_type": "code",
   "execution_count": 15,
   "metadata": {},
   "outputs": [],
   "source": [
    "main_df = find_all_data(top_stocks)"
   ]
  },
  {
   "cell_type": "markdown",
   "metadata": {},
   "source": [
    "# Setting up the data"
   ]
  },
  {
   "cell_type": "code",
   "execution_count": 16,
   "metadata": {},
   "outputs": [
    {
     "data": {
      "text/html": [
       "<div>\n",
       "<style scoped>\n",
       "    .dataframe tbody tr th:only-of-type {\n",
       "        vertical-align: middle;\n",
       "    }\n",
       "\n",
       "    .dataframe tbody tr th {\n",
       "        vertical-align: top;\n",
       "    }\n",
       "\n",
       "    .dataframe thead th {\n",
       "        text-align: right;\n",
       "    }\n",
       "</style>\n",
       "<table border=\"1\" class=\"dataframe\">\n",
       "  <thead>\n",
       "    <tr style=\"text-align: right;\">\n",
       "      <th></th>\n",
       "      <th>Open</th>\n",
       "      <th>High</th>\n",
       "      <th>Low</th>\n",
       "      <th>Close</th>\n",
       "      <th>Volume</th>\n",
       "      <th>Dividends</th>\n",
       "      <th>Stock Splits</th>\n",
       "      <th>stock name</th>\n",
       "    </tr>\n",
       "    <tr>\n",
       "      <th>Date</th>\n",
       "      <th></th>\n",
       "      <th></th>\n",
       "      <th></th>\n",
       "      <th></th>\n",
       "      <th></th>\n",
       "      <th></th>\n",
       "      <th></th>\n",
       "      <th></th>\n",
       "    </tr>\n",
       "  </thead>\n",
       "  <tbody>\n",
       "    <tr>\n",
       "      <th>2017-03-22 00:00:00-04:00</th>\n",
       "      <td>14.441760</td>\n",
       "      <td>14.607440</td>\n",
       "      <td>14.296790</td>\n",
       "      <td>14.483180</td>\n",
       "      <td>12288200</td>\n",
       "      <td>0.0</td>\n",
       "      <td>0.0</td>\n",
       "      <td>KMI</td>\n",
       "    </tr>\n",
       "    <tr>\n",
       "      <th>2020-03-11 00:00:00-04:00</th>\n",
       "      <td>55.189526</td>\n",
       "      <td>56.794186</td>\n",
       "      <td>54.071670</td>\n",
       "      <td>55.270660</td>\n",
       "      <td>12099100</td>\n",
       "      <td>0.0</td>\n",
       "      <td>0.0</td>\n",
       "      <td>CVS</td>\n",
       "    </tr>\n",
       "    <tr>\n",
       "      <th>2021-10-14 00:00:00-04:00</th>\n",
       "      <td>49.376692</td>\n",
       "      <td>50.403427</td>\n",
       "      <td>49.218013</td>\n",
       "      <td>50.310089</td>\n",
       "      <td>26586700</td>\n",
       "      <td>0.0</td>\n",
       "      <td>0.0</td>\n",
       "      <td>INTC</td>\n",
       "    </tr>\n",
       "    <tr>\n",
       "      <th>2021-12-08 00:00:00-05:00</th>\n",
       "      <td>176.150497</td>\n",
       "      <td>177.179993</td>\n",
       "      <td>174.750504</td>\n",
       "      <td>176.158005</td>\n",
       "      <td>45254000</td>\n",
       "      <td>0.0</td>\n",
       "      <td>0.0</td>\n",
       "      <td>AMZN</td>\n",
       "    </tr>\n",
       "    <tr>\n",
       "      <th>2019-03-08 00:00:00-05:00</th>\n",
       "      <td>24.971364</td>\n",
       "      <td>25.514221</td>\n",
       "      <td>24.926869</td>\n",
       "      <td>25.496422</td>\n",
       "      <td>40860700</td>\n",
       "      <td>0.0</td>\n",
       "      <td>0.0</td>\n",
       "      <td>BAC</td>\n",
       "    </tr>\n",
       "  </tbody>\n",
       "</table>\n",
       "</div>"
      ],
      "text/plain": [
       "                                 Open        High         Low       Close  \\\n",
       "Date                                                                        \n",
       "2017-03-22 00:00:00-04:00   14.441760   14.607440   14.296790   14.483180   \n",
       "2020-03-11 00:00:00-04:00   55.189526   56.794186   54.071670   55.270660   \n",
       "2021-10-14 00:00:00-04:00   49.376692   50.403427   49.218013   50.310089   \n",
       "2021-12-08 00:00:00-05:00  176.150497  177.179993  174.750504  176.158005   \n",
       "2019-03-08 00:00:00-05:00   24.971364   25.514221   24.926869   25.496422   \n",
       "\n",
       "                             Volume  Dividends  Stock Splits stock name  \n",
       "Date                                                                     \n",
       "2017-03-22 00:00:00-04:00  12288200        0.0           0.0        KMI  \n",
       "2020-03-11 00:00:00-04:00  12099100        0.0           0.0        CVS  \n",
       "2021-10-14 00:00:00-04:00  26586700        0.0           0.0       INTC  \n",
       "2021-12-08 00:00:00-05:00  45254000        0.0           0.0       AMZN  \n",
       "2019-03-08 00:00:00-05:00  40860700        0.0           0.0        BAC  "
      ]
     },
     "execution_count": 16,
     "metadata": {},
     "output_type": "execute_result"
    }
   ],
   "source": [
    "main_df.sample(5)"
   ]
  },
  {
   "cell_type": "code",
   "execution_count": 17,
   "metadata": {},
   "outputs": [
    {
     "data": {
      "text/plain": [
       "array(['AMD', 'TSLA', 'AAPL', 'F', 'AAL', 'NVDA', 'PFE', 'INTC', 'KEY',\n",
       "       'BAC', 'CCL', 'AMZN', 'T', 'KMI', 'PYPL', 'BA', 'UBER', 'MSFT',\n",
       "       'XOM', 'HBAN', 'GOOG', 'BMY', 'META', 'TFC', 'WFC', 'GM', 'CSX',\n",
       "       'CVS', 'VZ', 'PCG'], dtype=object)"
      ]
     },
     "execution_count": 17,
     "metadata": {},
     "output_type": "execute_result"
    }
   ],
   "source": [
    "main_df['stock name'].unique()"
   ]
  },
  {
   "cell_type": "code",
   "execution_count": 18,
   "metadata": {},
   "outputs": [
    {
     "name": "stdout",
     "output_type": "stream",
     "text": [
      "<class 'pandas.core.frame.DataFrame'>\n",
      "DatetimeIndex: 73779 entries, 2014-01-21 00:00:00-05:00 to 2024-01-18 00:00:00-05:00\n",
      "Data columns (total 8 columns):\n",
      " #   Column        Non-Null Count  Dtype  \n",
      "---  ------        --------------  -----  \n",
      " 0   Open          73779 non-null  float64\n",
      " 1   High          73779 non-null  float64\n",
      " 2   Low           73779 non-null  float64\n",
      " 3   Close         73779 non-null  float64\n",
      " 4   Volume        73779 non-null  int64  \n",
      " 5   Dividends     73779 non-null  float64\n",
      " 6   Stock Splits  73779 non-null  float64\n",
      " 7   stock name    73779 non-null  object \n",
      "dtypes: float64(6), int64(1), object(1)\n",
      "memory usage: 5.1+ MB\n"
     ]
    }
   ],
   "source": [
    "main_df.info()"
   ]
  },
  {
   "cell_type": "code",
   "execution_count": 19,
   "metadata": {},
   "outputs": [],
   "source": [
    "# Making the column 'date' and reset the index\n",
    "main_df.reset_index(inplace=True)"
   ]
  },
  {
   "cell_type": "markdown",
   "metadata": {},
   "source": [
    "Making a dict with the sector of each company"
   ]
  },
  {
   "cell_type": "code",
   "execution_count": 20,
   "metadata": {},
   "outputs": [],
   "source": [
    "sector_dict = dict()\n",
    "\n",
    "for stock in top_stocks:\n",
    "\n",
    "    sector = stocks_dict[stock]['Sector']\n",
    "    sector_dict[stock] = sector"
   ]
  },
  {
   "cell_type": "code",
   "execution_count": 21,
   "metadata": {},
   "outputs": [],
   "source": [
    "main_df['Sectors'] = main_df['stock name'].map(sector_dict)"
   ]
  },
  {
   "cell_type": "code",
   "execution_count": 22,
   "metadata": {},
   "outputs": [
    {
     "data": {
      "text/html": [
       "<div>\n",
       "<style scoped>\n",
       "    .dataframe tbody tr th:only-of-type {\n",
       "        vertical-align: middle;\n",
       "    }\n",
       "\n",
       "    .dataframe tbody tr th {\n",
       "        vertical-align: top;\n",
       "    }\n",
       "\n",
       "    .dataframe thead th {\n",
       "        text-align: right;\n",
       "    }\n",
       "</style>\n",
       "<table border=\"1\" class=\"dataframe\">\n",
       "  <thead>\n",
       "    <tr style=\"text-align: right;\">\n",
       "      <th></th>\n",
       "      <th>Date</th>\n",
       "      <th>Open</th>\n",
       "      <th>High</th>\n",
       "      <th>Low</th>\n",
       "      <th>Close</th>\n",
       "      <th>Volume</th>\n",
       "      <th>Dividends</th>\n",
       "      <th>Stock Splits</th>\n",
       "      <th>stock name</th>\n",
       "      <th>Sectors</th>\n",
       "    </tr>\n",
       "  </thead>\n",
       "  <tbody>\n",
       "    <tr>\n",
       "      <th>33737</th>\n",
       "      <td>2018-02-21 00:00:00-05:00</td>\n",
       "      <td>12.021339</td>\n",
       "      <td>12.085094</td>\n",
       "      <td>11.865494</td>\n",
       "      <td>11.865494</td>\n",
       "      <td>13464500</td>\n",
       "      <td>0.0</td>\n",
       "      <td>0.0</td>\n",
       "      <td>KMI</td>\n",
       "      <td>energy</td>\n",
       "    </tr>\n",
       "    <tr>\n",
       "      <th>61938</th>\n",
       "      <td>2016-12-23 00:00:00-05:00</td>\n",
       "      <td>30.868612</td>\n",
       "      <td>30.903071</td>\n",
       "      <td>30.618768</td>\n",
       "      <td>30.747995</td>\n",
       "      <td>9351200</td>\n",
       "      <td>0.0</td>\n",
       "      <td>0.0</td>\n",
       "      <td>GM</td>\n",
       "      <td>consumer-cyclical</td>\n",
       "    </tr>\n",
       "    <tr>\n",
       "      <th>59373</th>\n",
       "      <td>2016-10-14 00:00:00-04:00</td>\n",
       "      <td>36.562941</td>\n",
       "      <td>36.846251</td>\n",
       "      <td>35.874908</td>\n",
       "      <td>36.190594</td>\n",
       "      <td>45418600</td>\n",
       "      <td>0.0</td>\n",
       "      <td>0.0</td>\n",
       "      <td>WFC</td>\n",
       "      <td>financial-services</td>\n",
       "    </tr>\n",
       "    <tr>\n",
       "      <th>68529</th>\n",
       "      <td>2023-03-08 00:00:00-05:00</td>\n",
       "      <td>78.354499</td>\n",
       "      <td>78.666629</td>\n",
       "      <td>77.574169</td>\n",
       "      <td>77.847282</td>\n",
       "      <td>6657000</td>\n",
       "      <td>0.0</td>\n",
       "      <td>0.0</td>\n",
       "      <td>CVS</td>\n",
       "      <td>healthcare</td>\n",
       "    </tr>\n",
       "    <tr>\n",
       "      <th>34241</th>\n",
       "      <td>2020-02-24 00:00:00-05:00</td>\n",
       "      <td>16.923549</td>\n",
       "      <td>17.165204</td>\n",
       "      <td>16.853393</td>\n",
       "      <td>16.970322</td>\n",
       "      <td>19068300</td>\n",
       "      <td>0.0</td>\n",
       "      <td>0.0</td>\n",
       "      <td>KMI</td>\n",
       "      <td>energy</td>\n",
       "    </tr>\n",
       "  </tbody>\n",
       "</table>\n",
       "</div>"
      ],
      "text/plain": [
       "                           Date       Open       High        Low      Close  \\\n",
       "33737 2018-02-21 00:00:00-05:00  12.021339  12.085094  11.865494  11.865494   \n",
       "61938 2016-12-23 00:00:00-05:00  30.868612  30.903071  30.618768  30.747995   \n",
       "59373 2016-10-14 00:00:00-04:00  36.562941  36.846251  35.874908  36.190594   \n",
       "68529 2023-03-08 00:00:00-05:00  78.354499  78.666629  77.574169  77.847282   \n",
       "34241 2020-02-24 00:00:00-05:00  16.923549  17.165204  16.853393  16.970322   \n",
       "\n",
       "         Volume  Dividends  Stock Splits stock name             Sectors  \n",
       "33737  13464500        0.0           0.0        KMI              energy  \n",
       "61938   9351200        0.0           0.0         GM   consumer-cyclical  \n",
       "59373  45418600        0.0           0.0        WFC  financial-services  \n",
       "68529   6657000        0.0           0.0        CVS          healthcare  \n",
       "34241  19068300        0.0           0.0        KMI              energy  "
      ]
     },
     "execution_count": 22,
     "metadata": {},
     "output_type": "execute_result"
    }
   ],
   "source": [
    "main_df.sample(5)"
   ]
  },
  {
   "cell_type": "code",
   "execution_count": 29,
   "metadata": {},
   "outputs": [],
   "source": [
    "main_df.to_csv('../data/main_db.csv', index=False)"
   ]
  }
 ],
 "metadata": {
  "kernelspec": {
   "display_name": "Python 3",
   "language": "python",
   "name": "python3"
  },
  "language_info": {
   "codemirror_mode": {
    "name": "ipython",
    "version": 3
   },
   "file_extension": ".py",
   "mimetype": "text/x-python",
   "name": "python",
   "nbconvert_exporter": "python",
   "pygments_lexer": "ipython3",
   "version": "3.12.1"
  }
 },
 "nbformat": 4,
 "nbformat_minor": 2
}
