{
 "cells": [
  {
   "cell_type": "code",
   "execution_count": 2,
   "metadata": {},
   "outputs": [],
   "source": [
    "import pandas as pd\n",
    "import seaborn as sns\n",
    "import matplotlib.pyplot as plt\n",
    "import numpy as np "
   ]
  },
  {
   "cell_type": "code",
   "execution_count": 3,
   "metadata": {},
   "outputs": [],
   "source": [
    "main_df = pd.read_csv('../data/main_db.csv')"
   ]
  },
  {
   "cell_type": "code",
   "execution_count": 4,
   "metadata": {},
   "outputs": [
    {
     "data": {
      "text/html": [
       "<div>\n",
       "<style scoped>\n",
       "    .dataframe tbody tr th:only-of-type {\n",
       "        vertical-align: middle;\n",
       "    }\n",
       "\n",
       "    .dataframe tbody tr th {\n",
       "        vertical-align: top;\n",
       "    }\n",
       "\n",
       "    .dataframe thead th {\n",
       "        text-align: right;\n",
       "    }\n",
       "</style>\n",
       "<table border=\"1\" class=\"dataframe\">\n",
       "  <thead>\n",
       "    <tr style=\"text-align: right;\">\n",
       "      <th></th>\n",
       "      <th>Date</th>\n",
       "      <th>Open</th>\n",
       "      <th>High</th>\n",
       "      <th>Low</th>\n",
       "      <th>Close</th>\n",
       "      <th>Volume</th>\n",
       "      <th>Dividends</th>\n",
       "      <th>Stock Splits</th>\n",
       "      <th>stock name</th>\n",
       "      <th>Sectors</th>\n",
       "    </tr>\n",
       "  </thead>\n",
       "  <tbody>\n",
       "    <tr>\n",
       "      <th>2842</th>\n",
       "      <td>2015-05-07 00:00:00-04:00</td>\n",
       "      <td>14.733333</td>\n",
       "      <td>15.832000</td>\n",
       "      <td>14.683333</td>\n",
       "      <td>15.786667</td>\n",
       "      <td>141838500</td>\n",
       "      <td>0.0</td>\n",
       "      <td>0.0</td>\n",
       "      <td>TSLA</td>\n",
       "      <td>consumer-cyclical</td>\n",
       "    </tr>\n",
       "    <tr>\n",
       "      <th>5330</th>\n",
       "      <td>2015-03-27 00:00:00-04:00</td>\n",
       "      <td>27.986950</td>\n",
       "      <td>28.016156</td>\n",
       "      <td>27.614001</td>\n",
       "      <td>27.690388</td>\n",
       "      <td>158184800</td>\n",
       "      <td>0.0</td>\n",
       "      <td>0.0</td>\n",
       "      <td>AAPL</td>\n",
       "      <td>technology</td>\n",
       "    </tr>\n",
       "    <tr>\n",
       "      <th>44536</th>\n",
       "      <td>2017-10-25 00:00:00-04:00</td>\n",
       "      <td>61.476899</td>\n",
       "      <td>61.683177</td>\n",
       "      <td>61.108553</td>\n",
       "      <td>61.270626</td>\n",
       "      <td>9153300</td>\n",
       "      <td>0.0</td>\n",
       "      <td>0.0</td>\n",
       "      <td>XOM</td>\n",
       "      <td>energy</td>\n",
       "    </tr>\n",
       "  </tbody>\n",
       "</table>\n",
       "</div>"
      ],
      "text/plain": [
       "                            Date       Open       High        Low      Close  \\\n",
       "2842   2015-05-07 00:00:00-04:00  14.733333  15.832000  14.683333  15.786667   \n",
       "5330   2015-03-27 00:00:00-04:00  27.986950  28.016156  27.614001  27.690388   \n",
       "44536  2017-10-25 00:00:00-04:00  61.476899  61.683177  61.108553  61.270626   \n",
       "\n",
       "          Volume  Dividends  Stock Splits stock name            Sectors  \n",
       "2842   141838500        0.0           0.0       TSLA  consumer-cyclical  \n",
       "5330   158184800        0.0           0.0       AAPL         technology  \n",
       "44536    9153300        0.0           0.0        XOM             energy  "
      ]
     },
     "execution_count": 4,
     "metadata": {},
     "output_type": "execute_result"
    }
   ],
   "source": [
    "main_df.sample(3)"
   ]
  },
  {
   "cell_type": "code",
   "execution_count": 5,
   "metadata": {},
   "outputs": [
    {
     "name": "stdout",
     "output_type": "stream",
     "text": [
      "<class 'pandas.core.frame.DataFrame'>\n",
      "RangeIndex: 73779 entries, 0 to 73778\n",
      "Data columns (total 10 columns):\n",
      " #   Column        Non-Null Count  Dtype  \n",
      "---  ------        --------------  -----  \n",
      " 0   Date          73779 non-null  object \n",
      " 1   Open          73779 non-null  float64\n",
      " 2   High          73779 non-null  float64\n",
      " 3   Low           73779 non-null  float64\n",
      " 4   Close         73779 non-null  float64\n",
      " 5   Volume        73779 non-null  int64  \n",
      " 6   Dividends     73779 non-null  float64\n",
      " 7   Stock Splits  73779 non-null  float64\n",
      " 8   stock name    73779 non-null  object \n",
      " 9   Sectors       73779 non-null  object \n",
      "dtypes: float64(6), int64(1), object(3)\n",
      "memory usage: 5.6+ MB\n"
     ]
    }
   ],
   "source": [
    "main_df.info()"
   ]
  },
  {
   "cell_type": "code",
   "execution_count": 6,
   "metadata": {},
   "outputs": [
    {
     "name": "stderr",
     "output_type": "stream",
     "text": [
      "C:\\Users\\pedro\\AppData\\Local\\Temp\\ipykernel_1940\\1155894651.py:1: FutureWarning: In a future version of pandas, parsing datetimes with mixed time zones will raise an error unless `utc=True`. Please specify `utc=True` to opt in to the new behaviour and silence this warning. To create a `Series` with mixed offsets and `object` dtype, please use `apply` and `datetime.datetime.strptime`\n",
      "  main_df['date'] = pd.to_datetime(main_df['Date'], format='%Y-%m-%d %H:%M:%S%z')\n"
     ]
    }
   ],
   "source": [
    "main_df['date'] = pd.to_datetime(main_df['Date'], format='%Y-%m-%d %H:%M:%S%z')"
   ]
  },
  {
   "cell_type": "markdown",
   "metadata": {},
   "source": [
    "# Risk-Return"
   ]
  },
  {
   "cell_type": "markdown",
   "metadata": {},
   "source": [
    "Risk"
   ]
  },
  {
   "cell_type": "code",
   "execution_count": 7,
   "metadata": {},
   "outputs": [],
   "source": [
    "main_df['Day variation'] = (main_df['Close'] - main_df['Open']) * 100 / main_df['Open']"
   ]
  },
  {
   "cell_type": "code",
   "execution_count": 8,
   "metadata": {},
   "outputs": [
    {
     "data": {
      "text/html": [
       "<div>\n",
       "<style scoped>\n",
       "    .dataframe tbody tr th:only-of-type {\n",
       "        vertical-align: middle;\n",
       "    }\n",
       "\n",
       "    .dataframe tbody tr th {\n",
       "        vertical-align: top;\n",
       "    }\n",
       "\n",
       "    .dataframe thead th {\n",
       "        text-align: right;\n",
       "    }\n",
       "</style>\n",
       "<table border=\"1\" class=\"dataframe\">\n",
       "  <thead>\n",
       "    <tr style=\"text-align: right;\">\n",
       "      <th></th>\n",
       "      <th>Date</th>\n",
       "      <th>Open</th>\n",
       "      <th>High</th>\n",
       "      <th>Low</th>\n",
       "      <th>Close</th>\n",
       "      <th>Volume</th>\n",
       "      <th>Dividends</th>\n",
       "      <th>Stock Splits</th>\n",
       "      <th>stock name</th>\n",
       "      <th>Sectors</th>\n",
       "      <th>date</th>\n",
       "      <th>Day variation</th>\n",
       "    </tr>\n",
       "  </thead>\n",
       "  <tbody>\n",
       "    <tr>\n",
       "      <th>20853</th>\n",
       "      <td>2016-12-05 00:00:00-05:00</td>\n",
       "      <td>13.447485</td>\n",
       "      <td>13.537687</td>\n",
       "      <td>13.244533</td>\n",
       "      <td>13.304667</td>\n",
       "      <td>19851800</td>\n",
       "      <td>0.0</td>\n",
       "      <td>0.0</td>\n",
       "      <td>KEY</td>\n",
       "      <td>financial-services</td>\n",
       "      <td>2016-12-05 00:00:00-05:00</td>\n",
       "      <td>-1.062038</td>\n",
       "    </tr>\n",
       "    <tr>\n",
       "      <th>30666</th>\n",
       "      <td>2015-12-07 00:00:00-05:00</td>\n",
       "      <td>13.708903</td>\n",
       "      <td>13.915264</td>\n",
       "      <td>13.708903</td>\n",
       "      <td>13.866709</td>\n",
       "      <td>44958009</td>\n",
       "      <td>0.0</td>\n",
       "      <td>0.0</td>\n",
       "      <td>T</td>\n",
       "      <td>communication-services</td>\n",
       "      <td>2015-12-07 00:00:00-05:00</td>\n",
       "      <td>1.151119</td>\n",
       "    </tr>\n",
       "    <tr>\n",
       "      <th>52707</th>\n",
       "      <td>2020-04-20 00:00:00-04:00</td>\n",
       "      <td>53.695992</td>\n",
       "      <td>55.543311</td>\n",
       "      <td>53.563408</td>\n",
       "      <td>54.518005</td>\n",
       "      <td>17446000</td>\n",
       "      <td>0.0</td>\n",
       "      <td>0.0</td>\n",
       "      <td>BMY</td>\n",
       "      <td>healthcare</td>\n",
       "      <td>2020-04-20 00:00:00-04:00</td>\n",
       "      <td>1.530865</td>\n",
       "    </tr>\n",
       "  </tbody>\n",
       "</table>\n",
       "</div>"
      ],
      "text/plain": [
       "                            Date       Open       High        Low      Close  \\\n",
       "20853  2016-12-05 00:00:00-05:00  13.447485  13.537687  13.244533  13.304667   \n",
       "30666  2015-12-07 00:00:00-05:00  13.708903  13.915264  13.708903  13.866709   \n",
       "52707  2020-04-20 00:00:00-04:00  53.695992  55.543311  53.563408  54.518005   \n",
       "\n",
       "         Volume  Dividends  Stock Splits stock name                 Sectors  \\\n",
       "20853  19851800        0.0           0.0        KEY      financial-services   \n",
       "30666  44958009        0.0           0.0          T  communication-services   \n",
       "52707  17446000        0.0           0.0        BMY              healthcare   \n",
       "\n",
       "                            date  Day variation  \n",
       "20853  2016-12-05 00:00:00-05:00      -1.062038  \n",
       "30666  2015-12-07 00:00:00-05:00       1.151119  \n",
       "52707  2020-04-20 00:00:00-04:00       1.530865  "
      ]
     },
     "execution_count": 8,
     "metadata": {},
     "output_type": "execute_result"
    }
   ],
   "source": [
    "main_df.sample(3)"
   ]
  },
  {
   "cell_type": "code",
   "execution_count": 9,
   "metadata": {},
   "outputs": [],
   "source": [
    "# This shows what is the expected variation per day of each stock\n",
    "volatility = main_df.groupby('stock name')['Day variation'].std()"
   ]
  },
  {
   "cell_type": "code",
   "execution_count": 10,
   "metadata": {},
   "outputs": [
    {
     "data": {
      "text/plain": [
       "stock name\n",
       "AMD     2.958266\n",
       "PCG     2.859758\n",
       "UBER    2.824252\n",
       "TSLA    2.810581\n",
       "AAL     2.618633\n",
       "CCL     2.563956\n",
       "NVDA    2.289169\n",
       "PYPL    1.915225\n",
       "KEY     1.886324\n",
       "Name: Day variation, dtype: float64"
      ]
     },
     "execution_count": 10,
     "metadata": {},
     "output_type": "execute_result"
    }
   ],
   "source": [
    "# Top 10 most volatile stocks\n",
    "volatility.sort_values(ascending=False)[:9]"
   ]
  },
  {
   "cell_type": "markdown",
   "metadata": {},
   "source": [
    "Return"
   ]
  },
  {
   "cell_type": "code",
   "execution_count": 11,
   "metadata": {},
   "outputs": [],
   "source": [
    "main_df['Gains'] = (main_df['Close'] - main_df['Open'] + main_df['Dividends']) * 100 / main_df['Open']"
   ]
  },
  {
   "cell_type": "code",
   "execution_count": 12,
   "metadata": {},
   "outputs": [],
   "source": [
    "# This shows what is the average return of each stock\n",
    "average_return = main_df.groupby('stock name')['Gains'].mean()"
   ]
  },
  {
   "cell_type": "code",
   "execution_count": 13,
   "metadata": {},
   "outputs": [
    {
     "data": {
      "text/plain": [
       "stock name\n",
       "NVDA    0.101886\n",
       "AAPL    0.085134\n",
       "INTC    0.081977\n",
       "PCG     0.079942\n",
       "AMD     0.067973\n",
       "META    0.064523\n",
       "CSX     0.064229\n",
       "MSFT    0.058413\n",
       "TSLA    0.053242\n",
       "Name: Gains, dtype: float64"
      ]
     },
     "execution_count": 13,
     "metadata": {},
     "output_type": "execute_result"
    }
   ],
   "source": [
    "# Top 10 most returnables stocks\n",
    "average_return.sort_values(ascending=False)[:9]"
   ]
  },
  {
   "cell_type": "markdown",
   "metadata": {},
   "source": [
    "Making a dataframe with risk-return"
   ]
  },
  {
   "cell_type": "code",
   "execution_count": 14,
   "metadata": {},
   "outputs": [],
   "source": [
    "rr_df = pd.merge(volatility, average_return, on='stock name')"
   ]
  },
  {
   "cell_type": "code",
   "execution_count": 15,
   "metadata": {},
   "outputs": [
    {
     "data": {
      "text/html": [
       "<div>\n",
       "<style scoped>\n",
       "    .dataframe tbody tr th:only-of-type {\n",
       "        vertical-align: middle;\n",
       "    }\n",
       "\n",
       "    .dataframe tbody tr th {\n",
       "        vertical-align: top;\n",
       "    }\n",
       "\n",
       "    .dataframe thead th {\n",
       "        text-align: right;\n",
       "    }\n",
       "</style>\n",
       "<table border=\"1\" class=\"dataframe\">\n",
       "  <thead>\n",
       "    <tr style=\"text-align: right;\">\n",
       "      <th></th>\n",
       "      <th>Day variation</th>\n",
       "      <th>Gains</th>\n",
       "    </tr>\n",
       "    <tr>\n",
       "      <th>stock name</th>\n",
       "      <th></th>\n",
       "      <th></th>\n",
       "    </tr>\n",
       "  </thead>\n",
       "  <tbody>\n",
       "    <tr>\n",
       "      <th>AAL</th>\n",
       "      <td>2.618633</td>\n",
       "      <td>-0.090584</td>\n",
       "    </tr>\n",
       "    <tr>\n",
       "      <th>AAPL</th>\n",
       "      <td>1.374553</td>\n",
       "      <td>0.085134</td>\n",
       "    </tr>\n",
       "    <tr>\n",
       "      <th>AMD</th>\n",
       "      <td>2.958266</td>\n",
       "      <td>0.067973</td>\n",
       "    </tr>\n",
       "    <tr>\n",
       "      <th>AMZN</th>\n",
       "      <td>1.604384</td>\n",
       "      <td>-0.007860</td>\n",
       "    </tr>\n",
       "    <tr>\n",
       "      <th>BA</th>\n",
       "      <td>1.822444</td>\n",
       "      <td>-0.007573</td>\n",
       "    </tr>\n",
       "  </tbody>\n",
       "</table>\n",
       "</div>"
      ],
      "text/plain": [
       "            Day variation     Gains\n",
       "stock name                         \n",
       "AAL              2.618633 -0.090584\n",
       "AAPL             1.374553  0.085134\n",
       "AMD              2.958266  0.067973\n",
       "AMZN             1.604384 -0.007860\n",
       "BA               1.822444 -0.007573"
      ]
     },
     "execution_count": 15,
     "metadata": {},
     "output_type": "execute_result"
    }
   ],
   "source": [
    "rr_df.head()"
   ]
  },
  {
   "cell_type": "markdown",
   "metadata": {},
   "source": [
    "# Diversification"
   ]
  },
  {
   "cell_type": "markdown",
   "metadata": {},
   "source": [
    "The goal here is to understand the correlation between assets. For a good diversification, it is good a weak correlation"
   ]
  },
  {
   "cell_type": "code",
   "execution_count": 16,
   "metadata": {},
   "outputs": [],
   "source": [
    "diversity_df = main_df[['stock name', 'Close']]"
   ]
  },
  {
   "cell_type": "code",
   "execution_count": 17,
   "metadata": {},
   "outputs": [],
   "source": [
    "diversity_df = diversity_df.set_index('stock name')"
   ]
  },
  {
   "cell_type": "code",
   "execution_count": 18,
   "metadata": {},
   "outputs": [],
   "source": [
    "def group_stocks(df):\n",
    "\n",
    "    new_df = pd.DataFrame()\n",
    "\n",
    "    stocks = list(df.index.unique())\n",
    "\n",
    "    for stock in stocks:\n",
    "\n",
    "        # This will group each stock with their own prices\n",
    "        new_column = list(df.loc[stock]['Close'])\n",
    "\n",
    "        # Adding each stock as a column\n",
    "        new_df[stock] = new_column[:1181] # Uber has data since 2019, so to the correlation i decided use 5y \n",
    "    \n",
    "    return new_df\n"
   ]
  },
  {
   "cell_type": "code",
   "execution_count": 19,
   "metadata": {},
   "outputs": [],
   "source": [
    "diversity_df = group_stocks(diversity_df)"
   ]
  },
  {
   "cell_type": "code",
   "execution_count": 20,
   "metadata": {},
   "outputs": [
    {
     "data": {
      "text/html": [
       "<div>\n",
       "<style scoped>\n",
       "    .dataframe tbody tr th:only-of-type {\n",
       "        vertical-align: middle;\n",
       "    }\n",
       "\n",
       "    .dataframe tbody tr th {\n",
       "        vertical-align: top;\n",
       "    }\n",
       "\n",
       "    .dataframe thead th {\n",
       "        text-align: right;\n",
       "    }\n",
       "</style>\n",
       "<table border=\"1\" class=\"dataframe\">\n",
       "  <thead>\n",
       "    <tr style=\"text-align: right;\">\n",
       "      <th></th>\n",
       "      <th>AMD</th>\n",
       "      <th>TSLA</th>\n",
       "      <th>AAPL</th>\n",
       "      <th>F</th>\n",
       "      <th>AAL</th>\n",
       "      <th>NVDA</th>\n",
       "      <th>PFE</th>\n",
       "      <th>INTC</th>\n",
       "      <th>KEY</th>\n",
       "      <th>BAC</th>\n",
       "      <th>...</th>\n",
       "      <th>GOOG</th>\n",
       "      <th>BMY</th>\n",
       "      <th>META</th>\n",
       "      <th>TFC</th>\n",
       "      <th>WFC</th>\n",
       "      <th>GM</th>\n",
       "      <th>CSX</th>\n",
       "      <th>CVS</th>\n",
       "      <th>VZ</th>\n",
       "      <th>PCG</th>\n",
       "    </tr>\n",
       "  </thead>\n",
       "  <tbody>\n",
       "    <tr>\n",
       "      <th>0</th>\n",
       "      <td>4.17</td>\n",
       "      <td>11.778667</td>\n",
       "      <td>17.191612</td>\n",
       "      <td>10.143892</td>\n",
       "      <td>28.904451</td>\n",
       "      <td>3.785536</td>\n",
       "      <td>20.477730</td>\n",
       "      <td>19.284931</td>\n",
       "      <td>9.864887</td>\n",
       "      <td>14.059324</td>\n",
       "      <td>...</td>\n",
       "      <td>28.983862</td>\n",
       "      <td>40.653282</td>\n",
       "      <td>58.509998</td>\n",
       "      <td>27.597553</td>\n",
       "      <td>34.834167</td>\n",
       "      <td>29.186865</td>\n",
       "      <td>7.662162</td>\n",
       "      <td>53.746128</td>\n",
       "      <td>29.282484</td>\n",
       "      <td>36.288071</td>\n",
       "    </tr>\n",
       "    <tr>\n",
       "      <th>1</th>\n",
       "      <td>3.67</td>\n",
       "      <td>11.904000</td>\n",
       "      <td>17.268005</td>\n",
       "      <td>10.230434</td>\n",
       "      <td>29.413532</td>\n",
       "      <td>3.780819</td>\n",
       "      <td>20.503963</td>\n",
       "      <td>19.073923</td>\n",
       "      <td>9.956425</td>\n",
       "      <td>14.175041</td>\n",
       "      <td>...</td>\n",
       "      <td>29.016739</td>\n",
       "      <td>40.817131</td>\n",
       "      <td>57.509998</td>\n",
       "      <td>27.562445</td>\n",
       "      <td>34.961525</td>\n",
       "      <td>29.537064</td>\n",
       "      <td>7.713171</td>\n",
       "      <td>54.414810</td>\n",
       "      <td>29.055346</td>\n",
       "      <td>36.173763</td>\n",
       "    </tr>\n",
       "    <tr>\n",
       "      <th>2</th>\n",
       "      <td>3.62</td>\n",
       "      <td>12.100000</td>\n",
       "      <td>17.414223</td>\n",
       "      <td>10.156257</td>\n",
       "      <td>29.554943</td>\n",
       "      <td>3.766667</td>\n",
       "      <td>20.333475</td>\n",
       "      <td>18.938271</td>\n",
       "      <td>9.632527</td>\n",
       "      <td>13.935349</td>\n",
       "      <td>...</td>\n",
       "      <td>28.894197</td>\n",
       "      <td>40.176670</td>\n",
       "      <td>56.630001</td>\n",
       "      <td>27.211412</td>\n",
       "      <td>34.721802</td>\n",
       "      <td>29.247761</td>\n",
       "      <td>7.656496</td>\n",
       "      <td>53.864128</td>\n",
       "      <td>29.380701</td>\n",
       "      <td>36.305660</td>\n",
       "    </tr>\n",
       "    <tr>\n",
       "      <th>3</th>\n",
       "      <td>3.47</td>\n",
       "      <td>11.640000</td>\n",
       "      <td>17.097675</td>\n",
       "      <td>9.785363</td>\n",
       "      <td>28.659340</td>\n",
       "      <td>3.669966</td>\n",
       "      <td>19.730228</td>\n",
       "      <td>18.697117</td>\n",
       "      <td>9.104424</td>\n",
       "      <td>13.596472</td>\n",
       "      <td>...</td>\n",
       "      <td>27.990833</td>\n",
       "      <td>37.935123</td>\n",
       "      <td>54.450001</td>\n",
       "      <td>26.860388</td>\n",
       "      <td>34.070065</td>\n",
       "      <td>28.037365</td>\n",
       "      <td>7.424135</td>\n",
       "      <td>53.203312</td>\n",
       "      <td>29.239513</td>\n",
       "      <td>35.892395</td>\n",
       "    </tr>\n",
       "    <tr>\n",
       "      <th>4</th>\n",
       "      <td>3.41</td>\n",
       "      <td>11.308000</td>\n",
       "      <td>17.236391</td>\n",
       "      <td>9.711185</td>\n",
       "      <td>28.451939</td>\n",
       "      <td>3.646379</td>\n",
       "      <td>19.448271</td>\n",
       "      <td>18.629288</td>\n",
       "      <td>9.055137</td>\n",
       "      <td>13.480755</td>\n",
       "      <td>...</td>\n",
       "      <td>27.427942</td>\n",
       "      <td>37.026581</td>\n",
       "      <td>53.549999</td>\n",
       "      <td>26.530436</td>\n",
       "      <td>34.107525</td>\n",
       "      <td>27.984070</td>\n",
       "      <td>7.407135</td>\n",
       "      <td>53.124645</td>\n",
       "      <td>29.276331</td>\n",
       "      <td>35.980320</td>\n",
       "    </tr>\n",
       "  </tbody>\n",
       "</table>\n",
       "<p>5 rows × 30 columns</p>\n",
       "</div>"
      ],
      "text/plain": [
       "    AMD       TSLA       AAPL          F        AAL      NVDA        PFE  \\\n",
       "0  4.17  11.778667  17.191612  10.143892  28.904451  3.785536  20.477730   \n",
       "1  3.67  11.904000  17.268005  10.230434  29.413532  3.780819  20.503963   \n",
       "2  3.62  12.100000  17.414223  10.156257  29.554943  3.766667  20.333475   \n",
       "3  3.47  11.640000  17.097675   9.785363  28.659340  3.669966  19.730228   \n",
       "4  3.41  11.308000  17.236391   9.711185  28.451939  3.646379  19.448271   \n",
       "\n",
       "        INTC       KEY        BAC  ...       GOOG        BMY       META  \\\n",
       "0  19.284931  9.864887  14.059324  ...  28.983862  40.653282  58.509998   \n",
       "1  19.073923  9.956425  14.175041  ...  29.016739  40.817131  57.509998   \n",
       "2  18.938271  9.632527  13.935349  ...  28.894197  40.176670  56.630001   \n",
       "3  18.697117  9.104424  13.596472  ...  27.990833  37.935123  54.450001   \n",
       "4  18.629288  9.055137  13.480755  ...  27.427942  37.026581  53.549999   \n",
       "\n",
       "         TFC        WFC         GM       CSX        CVS         VZ        PCG  \n",
       "0  27.597553  34.834167  29.186865  7.662162  53.746128  29.282484  36.288071  \n",
       "1  27.562445  34.961525  29.537064  7.713171  54.414810  29.055346  36.173763  \n",
       "2  27.211412  34.721802  29.247761  7.656496  53.864128  29.380701  36.305660  \n",
       "3  26.860388  34.070065  28.037365  7.424135  53.203312  29.239513  35.892395  \n",
       "4  26.530436  34.107525  27.984070  7.407135  53.124645  29.276331  35.980320  \n",
       "\n",
       "[5 rows x 30 columns]"
      ]
     },
     "execution_count": 20,
     "metadata": {},
     "output_type": "execute_result"
    }
   ],
   "source": [
    "diversity_df.head()"
   ]
  },
  {
   "cell_type": "code",
   "execution_count": 21,
   "metadata": {},
   "outputs": [],
   "source": [
    "correlation_matrix = diversity_df.corr()"
   ]
  },
  {
   "cell_type": "code",
   "execution_count": 22,
   "metadata": {},
   "outputs": [
    {
     "data": {
      "image/png": "[encoded data removed]",
      "text/plain": [
       "<Figure size 1400x700 with 2 Axes>"
      ]
     },
     "metadata": {},
     "output_type": "display_data"
    }
   ],
   "source": [
    "f, ax = plt.subplots(figsize=(14, 7))\n",
    "mask = np.triu(np.ones_like(correlation_matrix, dtype=bool))\n",
    "colors = sns.diverging_palette(20, 220, as_cmap=True)\n",
    "cmap = sns.heatmap(correlation_matrix, mask=mask, cmap=colors)"
   ]
  },
  {
   "cell_type": "markdown",
   "metadata": {},
   "source": [
    "# Pairing assets"
   ]
  },
  {
   "cell_type": "markdown",
   "metadata": {},
   "source": [
    "Finding the best match for each asset"
   ]
  },
  {
   "cell_type": "code",
   "execution_count": 23,
   "metadata": {},
   "outputs": [],
   "source": [
    "# Mtch risk calculation\n",
    "def portfolio_return(rr_df, correlation_matrix, a1,a2):\n",
    "    \n",
    "    # For this study i decided to use the same weight for each asset\n",
    "    w1 = 0.5\n",
    "    w2 = 0.5\n",
    "\n",
    "    # Return of each asset\n",
    "    r1 = rr_df.loc[a1]['Gains']\n",
    "    r2 = rr_df.loc[a2]['Gains']\n",
    "\n",
    "    # Varietion of each asset\n",
    "    v1 = rr_df.loc[a1]['Day variation']\n",
    "    v2 = rr_df.loc[a2]['Day variation']\n",
    "\n",
    "    # Correlation between assets\n",
    "    corr = correlation_matrix.loc[a1][a2]\n",
    "\n",
    "    # Risk an return formula \n",
    "    p_return = (w1 * r1) + (w2 * r2) \n",
    "\n",
    "    p_risk = np.sqrt((w1*w1*v1*v1) + (w2*w2*v2*v2) + 2*w1*w2*corr)\n",
    "\n",
    "    return [p_risk, p_return]"
   ]
  },
  {
   "cell_type": "code",
   "execution_count": 24,
   "metadata": {},
   "outputs": [
    {
     "data": {
      "text/plain": [
       "[1.6741628745530934, 0.04995131055345443]"
      ]
     },
     "execution_count": 24,
     "metadata": {},
     "output_type": "execute_result"
    }
   ],
   "source": [
    "# Random test\n",
    "portfolio_return(rr_df, correlation_matrix, 'TSLA', 'GOOG')"
   ]
  },
  {
   "cell_type": "code",
   "execution_count": 25,
   "metadata": {},
   "outputs": [],
   "source": [
    "def find_all_risk_return(rr_df, correlation_matrix):\n",
    "    assets_dict = dict()\n",
    "\n",
    "    for stock in rr_df.index:\n",
    "        for second_stock in rr_df.index:\n",
    "            if stock != second_stock:\n",
    "\n",
    "                rr = portfolio_return(rr_df, correlation_matrix, a1=stock, a2=second_stock)\n",
    "\n",
    "                assets_risk = rr[0]\n",
    "                assets_return = rr[1]\n",
    "                \n",
    "                d = { (stock , second_stock ): {'Risk' : assets_risk, 'Return' : assets_return}}\n",
    "\n",
    "                assets_dict.update(d)\n",
    "    \n",
    "    return assets_dict"
   ]
  },
  {
   "cell_type": "code",
   "execution_count": 26,
   "metadata": {},
   "outputs": [],
   "source": [
    "assets_risk_return = find_all_risk_return(rr_df, correlation_matrix)"
   ]
  },
  {
   "cell_type": "code",
   "execution_count": 27,
   "metadata": {},
   "outputs": [
    {
     "data": {
      "text/plain": [
       "{'Risk': 1.6741628745530934, 'Return': 0.04995131055345443}"
      ]
     },
     "execution_count": 27,
     "metadata": {},
     "output_type": "execute_result"
    }
   ],
   "source": [
    "assets_risk_return[('TSLA', 'GOOG')]"
   ]
  },
  {
   "cell_type": "code",
   "execution_count": 28,
   "metadata": {},
   "outputs": [],
   "source": [
    "assets_risk_return_df = pd.DataFrame(assets_risk_return).transpose()"
   ]
  },
  {
   "cell_type": "code",
   "execution_count": 29,
   "metadata": {},
   "outputs": [
    {
     "data": {
      "text/html": [
       "<div>\n",
       "<style scoped>\n",
       "    .dataframe tbody tr th:only-of-type {\n",
       "        vertical-align: middle;\n",
       "    }\n",
       "\n",
       "    .dataframe tbody tr th {\n",
       "        vertical-align: top;\n",
       "    }\n",
       "\n",
       "    .dataframe thead th {\n",
       "        text-align: right;\n",
       "    }\n",
       "</style>\n",
       "<table border=\"1\" class=\"dataframe\">\n",
       "  <thead>\n",
       "    <tr style=\"text-align: right;\">\n",
       "      <th></th>\n",
       "      <th></th>\n",
       "      <th>Risk</th>\n",
       "      <th>Return</th>\n",
       "    </tr>\n",
       "  </thead>\n",
       "  <tbody>\n",
       "    <tr>\n",
       "      <th rowspan=\"5\" valign=\"top\">AAL</th>\n",
       "      <th>AAPL</th>\n",
       "      <td>1.562106</td>\n",
       "      <td>-0.002725</td>\n",
       "    </tr>\n",
       "    <tr>\n",
       "      <th>AMD</th>\n",
       "      <td>2.012861</td>\n",
       "      <td>-0.011306</td>\n",
       "    </tr>\n",
       "    <tr>\n",
       "      <th>AMZN</th>\n",
       "      <td>1.581863</td>\n",
       "      <td>-0.049222</td>\n",
       "    </tr>\n",
       "    <tr>\n",
       "      <th>BA</th>\n",
       "      <td>1.663461</td>\n",
       "      <td>-0.049079</td>\n",
       "    </tr>\n",
       "    <tr>\n",
       "      <th>BAC</th>\n",
       "      <td>1.583681</td>\n",
       "      <td>-0.044245</td>\n",
       "    </tr>\n",
       "    <tr>\n",
       "      <th>...</th>\n",
       "      <th>...</th>\n",
       "      <td>...</td>\n",
       "      <td>...</td>\n",
       "    </tr>\n",
       "    <tr>\n",
       "      <th rowspan=\"5\" valign=\"top\">XOM</th>\n",
       "      <th>TFC</th>\n",
       "      <td>1.040086</td>\n",
       "      <td>0.020879</td>\n",
       "    </tr>\n",
       "    <tr>\n",
       "      <th>TSLA</th>\n",
       "      <td>1.546893</td>\n",
       "      <td>0.038524</td>\n",
       "    </tr>\n",
       "    <tr>\n",
       "      <th>UBER</th>\n",
       "      <td>1.506752</td>\n",
       "      <td>0.032865</td>\n",
       "    </tr>\n",
       "    <tr>\n",
       "      <th>VZ</th>\n",
       "      <td>0.897961</td>\n",
       "      <td>0.024042</td>\n",
       "    </tr>\n",
       "    <tr>\n",
       "      <th>WFC</th>\n",
       "      <td>0.953320</td>\n",
       "      <td>0.018649</td>\n",
       "    </tr>\n",
       "  </tbody>\n",
       "</table>\n",
       "<p>870 rows × 2 columns</p>\n",
       "</div>"
      ],
      "text/plain": [
       "              Risk    Return\n",
       "AAL AAPL  1.562106 -0.002725\n",
       "    AMD   2.012861 -0.011306\n",
       "    AMZN  1.581863 -0.049222\n",
       "    BA    1.663461 -0.049079\n",
       "    BAC   1.583681 -0.044245\n",
       "...            ...       ...\n",
       "XOM TFC   1.040086  0.020879\n",
       "    TSLA  1.546893  0.038524\n",
       "    UBER  1.506752  0.032865\n",
       "    VZ    0.897961  0.024042\n",
       "    WFC   0.953320  0.018649\n",
       "\n",
       "[870 rows x 2 columns]"
      ]
     },
     "execution_count": 29,
     "metadata": {},
     "output_type": "execute_result"
    }
   ],
   "source": [
    "assets_risk_return_df"
   ]
  },
  {
   "cell_type": "markdown",
   "metadata": {},
   "source": [
    "# Portfolio optimization"
   ]
  },
  {
   "cell_type": "markdown",
   "metadata": {},
   "source": [
    "To optimize the choices i'm gonna use Sharpe Ratio"
   ]
  },
  {
   "cell_type": "code",
   "execution_count": 30,
   "metadata": {},
   "outputs": [],
   "source": [
    "# Spliting the multiindex into a index and a column\n",
    "def split_multiindex(df):\n",
    "\n",
    "    new_index = list()\n",
    "    new_column = list()\n",
    "\n",
    "    for i in df.index:\n",
    "\n",
    "        main_stock = i[0]\n",
    "        pair = i[1]\n",
    "\n",
    "        new_index.append(main_stock)\n",
    "        new_column.append(pair)\n",
    "\n",
    "    return [new_index, new_column]\n"
   ]
  },
  {
   "cell_type": "code",
   "execution_count": 31,
   "metadata": {},
   "outputs": [],
   "source": [
    "split_multiind = split_multiindex(assets_risk_return_df)"
   ]
  },
  {
   "cell_type": "code",
   "execution_count": 32,
   "metadata": {},
   "outputs": [],
   "source": [
    "assets_risk_return_df.index = split_multiind[0]\n",
    "assets_risk_return_df['Pair'] = split_multiind[1]"
   ]
  },
  {
   "cell_type": "code",
   "execution_count": 33,
   "metadata": {},
   "outputs": [
    {
     "data": {
      "text/html": [
       "<div>\n",
       "<style scoped>\n",
       "    .dataframe tbody tr th:only-of-type {\n",
       "        vertical-align: middle;\n",
       "    }\n",
       "\n",
       "    .dataframe tbody tr th {\n",
       "        vertical-align: top;\n",
       "    }\n",
       "\n",
       "    .dataframe thead th {\n",
       "        text-align: right;\n",
       "    }\n",
       "</style>\n",
       "<table border=\"1\" class=\"dataframe\">\n",
       "  <thead>\n",
       "    <tr style=\"text-align: right;\">\n",
       "      <th></th>\n",
       "      <th>Risk</th>\n",
       "      <th>Return</th>\n",
       "      <th>Pair</th>\n",
       "    </tr>\n",
       "  </thead>\n",
       "  <tbody>\n",
       "    <tr>\n",
       "      <th>AAL</th>\n",
       "      <td>1.562106</td>\n",
       "      <td>-0.002725</td>\n",
       "      <td>AAPL</td>\n",
       "    </tr>\n",
       "    <tr>\n",
       "      <th>AAL</th>\n",
       "      <td>2.012861</td>\n",
       "      <td>-0.011306</td>\n",
       "      <td>AMD</td>\n",
       "    </tr>\n",
       "    <tr>\n",
       "      <th>AAL</th>\n",
       "      <td>1.581863</td>\n",
       "      <td>-0.049222</td>\n",
       "      <td>AMZN</td>\n",
       "    </tr>\n",
       "    <tr>\n",
       "      <th>AAL</th>\n",
       "      <td>1.663461</td>\n",
       "      <td>-0.049079</td>\n",
       "      <td>BA</td>\n",
       "    </tr>\n",
       "    <tr>\n",
       "      <th>AAL</th>\n",
       "      <td>1.583681</td>\n",
       "      <td>-0.044245</td>\n",
       "      <td>BAC</td>\n",
       "    </tr>\n",
       "  </tbody>\n",
       "</table>\n",
       "</div>"
      ],
      "text/plain": [
       "         Risk    Return  Pair\n",
       "AAL  1.562106 -0.002725  AAPL\n",
       "AAL  2.012861 -0.011306   AMD\n",
       "AAL  1.581863 -0.049222  AMZN\n",
       "AAL  1.663461 -0.049079    BA\n",
       "AAL  1.583681 -0.044245   BAC"
      ]
     },
     "execution_count": 33,
     "metadata": {},
     "output_type": "execute_result"
    }
   ],
   "source": [
    "assets_risk_return_df.head()"
   ]
  },
  {
   "cell_type": "code",
   "execution_count": 34,
   "metadata": {},
   "outputs": [],
   "source": [
    "# Calculatind the average return of each asset pairing\n",
    "pairs_average_return = assets_risk_return_df.groupby(assets_risk_return_df.index)['Return'].mean()"
   ]
  },
  {
   "cell_type": "markdown",
   "metadata": {},
   "source": [
    "Sharpe Ratio = (average return - risk-free rate) / risk\n"
   ]
  },
  {
   "cell_type": "code",
   "execution_count": 35,
   "metadata": {},
   "outputs": [],
   "source": [
    "def sharpe_ratio(df, returns):\n",
    "    sharpe_ratio_list = list()\n",
    "\n",
    "    for i in range(len(df)):\n",
    "\n",
    "        # Taking the average return of main stock\n",
    "        main_stock = df.iloc[i].name\n",
    "        main_stock_return = returns[main_stock]\n",
    "\n",
    "        # Sharpe radio variables\n",
    "        risk_free_return = df.iloc[i]['Return']\n",
    "        risk = df.iloc[i]['Risk']\n",
    "\n",
    "        # Sharp Radio formula\n",
    "        \n",
    "        sharpe_ratio = (main_stock_return - risk_free_return) / risk\n",
    "\n",
    "        sharpe_ratio_list.append(sharpe_ratio)\n",
    "\n",
    "    return sharpe_ratio_list"
   ]
  },
  {
   "cell_type": "code",
   "execution_count": 36,
   "metadata": {},
   "outputs": [],
   "source": [
    "assets_risk_return_df['Sharpe ratio'] = sharpe_ratio(assets_risk_return_df, pairs_average_return)"
   ]
  },
  {
   "cell_type": "code",
   "execution_count": 37,
   "metadata": {},
   "outputs": [
    {
     "data": {
      "text/html": [
       "<div>\n",
       "<style scoped>\n",
       "    .dataframe tbody tr th:only-of-type {\n",
       "        vertical-align: middle;\n",
       "    }\n",
       "\n",
       "    .dataframe tbody tr th {\n",
       "        vertical-align: top;\n",
       "    }\n",
       "\n",
       "    .dataframe thead th {\n",
       "        text-align: right;\n",
       "    }\n",
       "</style>\n",
       "<table border=\"1\" class=\"dataframe\">\n",
       "  <thead>\n",
       "    <tr style=\"text-align: right;\">\n",
       "      <th></th>\n",
       "      <th>Risk</th>\n",
       "      <th>Return</th>\n",
       "      <th>Pair</th>\n",
       "      <th>Sharpe ratio</th>\n",
       "    </tr>\n",
       "  </thead>\n",
       "  <tbody>\n",
       "    <tr>\n",
       "      <th>AAL</th>\n",
       "      <td>1.599021</td>\n",
       "      <td>-0.038547</td>\n",
       "      <td>WFC</td>\n",
       "      <td>0.003773</td>\n",
       "    </tr>\n",
       "    <tr>\n",
       "      <th>WFC</th>\n",
       "      <td>1.331807</td>\n",
       "      <td>-0.002517</td>\n",
       "      <td>PYPL</td>\n",
       "      <td>0.015202</td>\n",
       "    </tr>\n",
       "    <tr>\n",
       "      <th>META</th>\n",
       "      <td>1.218495</td>\n",
       "      <td>0.036047</td>\n",
       "      <td>PFE</td>\n",
       "      <td>0.005185</td>\n",
       "    </tr>\n",
       "    <tr>\n",
       "      <th>TFC</th>\n",
       "      <td>1.043439</td>\n",
       "      <td>0.013573</td>\n",
       "      <td>BMY</td>\n",
       "      <td>0.006048</td>\n",
       "    </tr>\n",
       "    <tr>\n",
       "      <th>WFC</th>\n",
       "      <td>1.214364</td>\n",
       "      <td>0.047734</td>\n",
       "      <td>INTC</td>\n",
       "      <td>-0.024708</td>\n",
       "    </tr>\n",
       "    <tr>\n",
       "      <th>KMI</th>\n",
       "      <td>0.742073</td>\n",
       "      <td>0.000741</td>\n",
       "      <td>VZ</td>\n",
       "      <td>-0.000712</td>\n",
       "    </tr>\n",
       "    <tr>\n",
       "      <th>PFE</th>\n",
       "      <td>0.993109</td>\n",
       "      <td>0.015924</td>\n",
       "      <td>VZ</td>\n",
       "      <td>-0.001060</td>\n",
       "    </tr>\n",
       "    <tr>\n",
       "      <th>BAC</th>\n",
       "      <td>1.612541</td>\n",
       "      <td>-0.014386</td>\n",
       "      <td>CCL</td>\n",
       "      <td>0.016505</td>\n",
       "    </tr>\n",
       "    <tr>\n",
       "      <th>BA</th>\n",
       "      <td>0.992956</td>\n",
       "      <td>0.000279</td>\n",
       "      <td>CVS</td>\n",
       "      <td>0.007333</td>\n",
       "    </tr>\n",
       "    <tr>\n",
       "      <th>TFC</th>\n",
       "      <td>1.320553</td>\n",
       "      <td>-0.008716</td>\n",
       "      <td>GM</td>\n",
       "      <td>0.021657</td>\n",
       "    </tr>\n",
       "  </tbody>\n",
       "</table>\n",
       "</div>"
      ],
      "text/plain": [
       "          Risk    Return  Pair  Sharpe ratio\n",
       "AAL   1.599021 -0.038547   WFC      0.003773\n",
       "WFC   1.331807 -0.002517  PYPL      0.015202\n",
       "META  1.218495  0.036047   PFE      0.005185\n",
       "TFC   1.043439  0.013573   BMY      0.006048\n",
       "WFC   1.214364  0.047734  INTC     -0.024708\n",
       "KMI   0.742073  0.000741    VZ     -0.000712\n",
       "PFE   0.993109  0.015924    VZ     -0.001060\n",
       "BAC   1.612541 -0.014386   CCL      0.016505\n",
       "BA    0.992956  0.000279   CVS      0.007333\n",
       "TFC   1.320553 -0.008716    GM      0.021657"
      ]
     },
     "execution_count": 37,
     "metadata": {},
     "output_type": "execute_result"
    }
   ],
   "source": [
    "assets_risk_return_df.sample(10)"
   ]
  },
  {
   "cell_type": "code",
   "execution_count": 38,
   "metadata": {},
   "outputs": [],
   "source": [
    "# Changing the index to number for be easier to find the index\n",
    "assets_risk_return_df.reset_index(inplace=True)\n",
    "assets_risk_return_df.rename(columns={'index':'Main stock'}, inplace=True)"
   ]
  },
  {
   "cell_type": "code",
   "execution_count": 39,
   "metadata": {},
   "outputs": [],
   "source": [
    "max_sharpes_ids = assets_risk_return_df.groupby('Main stock')['Sharpe ratio'].idxmax()"
   ]
  },
  {
   "cell_type": "code",
   "execution_count": 40,
   "metadata": {},
   "outputs": [
    {
     "data": {
      "text/html": [
       "<div>\n",
       "<style scoped>\n",
       "    .dataframe tbody tr th:only-of-type {\n",
       "        vertical-align: middle;\n",
       "    }\n",
       "\n",
       "    .dataframe tbody tr th {\n",
       "        vertical-align: top;\n",
       "    }\n",
       "\n",
       "    .dataframe thead th {\n",
       "        text-align: right;\n",
       "    }\n",
       "</style>\n",
       "<table border=\"1\" class=\"dataframe\">\n",
       "  <thead>\n",
       "    <tr style=\"text-align: right;\">\n",
       "      <th></th>\n",
       "      <th>Main stock</th>\n",
       "      <th>Pair</th>\n",
       "      <th>Sharpe ratio</th>\n",
       "    </tr>\n",
       "  </thead>\n",
       "  <tbody>\n",
       "    <tr>\n",
       "      <th>9</th>\n",
       "      <td>AAL</td>\n",
       "      <td>F</td>\n",
       "      <td>0.019828</td>\n",
       "    </tr>\n",
       "    <tr>\n",
       "      <th>29</th>\n",
       "      <td>AAPL</td>\n",
       "      <td>AAL</td>\n",
       "      <td>0.035235</td>\n",
       "    </tr>\n",
       "    <tr>\n",
       "      <th>58</th>\n",
       "      <td>AMD</td>\n",
       "      <td>AAL</td>\n",
       "      <td>0.027492</td>\n",
       "    </tr>\n",
       "    <tr>\n",
       "      <th>87</th>\n",
       "      <td>AMZN</td>\n",
       "      <td>AAL</td>\n",
       "      <td>0.035809</td>\n",
       "    </tr>\n",
       "    <tr>\n",
       "      <th>116</th>\n",
       "      <td>BA</td>\n",
       "      <td>AAL</td>\n",
       "      <td>0.034049</td>\n",
       "    </tr>\n",
       "    <tr>\n",
       "      <th>145</th>\n",
       "      <td>BAC</td>\n",
       "      <td>AAL</td>\n",
       "      <td>0.035659</td>\n",
       "    </tr>\n",
       "    <tr>\n",
       "      <th>174</th>\n",
       "      <td>BMY</td>\n",
       "      <td>AAL</td>\n",
       "      <td>0.038019</td>\n",
       "    </tr>\n",
       "    <tr>\n",
       "      <th>203</th>\n",
       "      <td>CCL</td>\n",
       "      <td>AAL</td>\n",
       "      <td>0.029852</td>\n",
       "    </tr>\n",
       "    <tr>\n",
       "      <th>232</th>\n",
       "      <td>CSX</td>\n",
       "      <td>AAL</td>\n",
       "      <td>0.035372</td>\n",
       "    </tr>\n",
       "    <tr>\n",
       "      <th>261</th>\n",
       "      <td>CVS</td>\n",
       "      <td>AAL</td>\n",
       "      <td>0.039140</td>\n",
       "    </tr>\n",
       "    <tr>\n",
       "      <th>290</th>\n",
       "      <td>F</td>\n",
       "      <td>AAL</td>\n",
       "      <td>0.036949</td>\n",
       "    </tr>\n",
       "    <tr>\n",
       "      <th>319</th>\n",
       "      <td>GM</td>\n",
       "      <td>AAL</td>\n",
       "      <td>0.034689</td>\n",
       "    </tr>\n",
       "    <tr>\n",
       "      <th>348</th>\n",
       "      <td>GOOG</td>\n",
       "      <td>AAL</td>\n",
       "      <td>0.036316</td>\n",
       "    </tr>\n",
       "    <tr>\n",
       "      <th>377</th>\n",
       "      <td>HBAN</td>\n",
       "      <td>AAL</td>\n",
       "      <td>0.034253</td>\n",
       "    </tr>\n",
       "    <tr>\n",
       "      <th>406</th>\n",
       "      <td>INTC</td>\n",
       "      <td>AAL</td>\n",
       "      <td>0.034665</td>\n",
       "    </tr>\n",
       "    <tr>\n",
       "      <th>435</th>\n",
       "      <td>KEY</td>\n",
       "      <td>AAL</td>\n",
       "      <td>0.033136</td>\n",
       "    </tr>\n",
       "    <tr>\n",
       "      <th>464</th>\n",
       "      <td>KMI</td>\n",
       "      <td>AAL</td>\n",
       "      <td>0.037383</td>\n",
       "    </tr>\n",
       "    <tr>\n",
       "      <th>493</th>\n",
       "      <td>META</td>\n",
       "      <td>AAL</td>\n",
       "      <td>0.034150</td>\n",
       "    </tr>\n",
       "    <tr>\n",
       "      <th>522</th>\n",
       "      <td>MSFT</td>\n",
       "      <td>AAL</td>\n",
       "      <td>0.036307</td>\n",
       "    </tr>\n",
       "    <tr>\n",
       "      <th>551</th>\n",
       "      <td>NVDA</td>\n",
       "      <td>AAL</td>\n",
       "      <td>0.030390</td>\n",
       "    </tr>\n",
       "    <tr>\n",
       "      <th>580</th>\n",
       "      <td>PCG</td>\n",
       "      <td>AAL</td>\n",
       "      <td>0.028085</td>\n",
       "    </tr>\n",
       "    <tr>\n",
       "      <th>609</th>\n",
       "      <td>PFE</td>\n",
       "      <td>AAL</td>\n",
       "      <td>0.037819</td>\n",
       "    </tr>\n",
       "    <tr>\n",
       "      <th>638</th>\n",
       "      <td>PYPL</td>\n",
       "      <td>AAL</td>\n",
       "      <td>0.033909</td>\n",
       "    </tr>\n",
       "    <tr>\n",
       "      <th>667</th>\n",
       "      <td>T</td>\n",
       "      <td>AAL</td>\n",
       "      <td>0.038292</td>\n",
       "    </tr>\n",
       "    <tr>\n",
       "      <th>696</th>\n",
       "      <td>TFC</td>\n",
       "      <td>AAL</td>\n",
       "      <td>0.034920</td>\n",
       "    </tr>\n",
       "    <tr>\n",
       "      <th>725</th>\n",
       "      <td>TSLA</td>\n",
       "      <td>AAL</td>\n",
       "      <td>0.028071</td>\n",
       "    </tr>\n",
       "    <tr>\n",
       "      <th>754</th>\n",
       "      <td>UBER</td>\n",
       "      <td>AAL</td>\n",
       "      <td>0.029656</td>\n",
       "    </tr>\n",
       "    <tr>\n",
       "      <th>783</th>\n",
       "      <td>VZ</td>\n",
       "      <td>AAL</td>\n",
       "      <td>0.039356</td>\n",
       "    </tr>\n",
       "    <tr>\n",
       "      <th>812</th>\n",
       "      <td>WFC</td>\n",
       "      <td>AAL</td>\n",
       "      <td>0.035194</td>\n",
       "    </tr>\n",
       "    <tr>\n",
       "      <th>841</th>\n",
       "      <td>XOM</td>\n",
       "      <td>AAL</td>\n",
       "      <td>0.038993</td>\n",
       "    </tr>\n",
       "  </tbody>\n",
       "</table>\n",
       "</div>"
      ],
      "text/plain": [
       "    Main stock Pair  Sharpe ratio\n",
       "9          AAL    F      0.019828\n",
       "29        AAPL  AAL      0.035235\n",
       "58         AMD  AAL      0.027492\n",
       "87        AMZN  AAL      0.035809\n",
       "116         BA  AAL      0.034049\n",
       "145        BAC  AAL      0.035659\n",
       "174        BMY  AAL      0.038019\n",
       "203        CCL  AAL      0.029852\n",
       "232        CSX  AAL      0.035372\n",
       "261        CVS  AAL      0.039140\n",
       "290          F  AAL      0.036949\n",
       "319         GM  AAL      0.034689\n",
       "348       GOOG  AAL      0.036316\n",
       "377       HBAN  AAL      0.034253\n",
       "406       INTC  AAL      0.034665\n",
       "435        KEY  AAL      0.033136\n",
       "464        KMI  AAL      0.037383\n",
       "493       META  AAL      0.034150\n",
       "522       MSFT  AAL      0.036307\n",
       "551       NVDA  AAL      0.030390\n",
       "580        PCG  AAL      0.028085\n",
       "609        PFE  AAL      0.037819\n",
       "638       PYPL  AAL      0.033909\n",
       "667          T  AAL      0.038292\n",
       "696        TFC  AAL      0.034920\n",
       "725       TSLA  AAL      0.028071\n",
       "754       UBER  AAL      0.029656\n",
       "783         VZ  AAL      0.039356\n",
       "812        WFC  AAL      0.035194\n",
       "841        XOM  AAL      0.038993"
      ]
     },
     "execution_count": 40,
     "metadata": {},
     "output_type": "execute_result"
    }
   ],
   "source": [
    "assets_risk_return_df.iloc[max_sharpes_ids][['Main stock', 'Pair', 'Sharpe ratio']]"
   ]
  }
 ],
 "metadata": {
  "kernelspec": {
   "display_name": "Python 3",
   "language": "python",
   "name": "python3"
  },
  "language_info": {
   "codemirror_mode": {
    "name": "ipython",
    "version": 3
   },
   "file_extension": ".py",
   "mimetype": "text/x-python",
   "name": "python",
   "nbconvert_exporter": "python",
   "pygments_lexer": "ipython3",
   "version": "3.12.1"
  }
 },
 "nbformat": 4,
 "nbformat_minor": 2
}
